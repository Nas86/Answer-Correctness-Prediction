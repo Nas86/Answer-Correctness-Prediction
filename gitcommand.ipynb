{
  "nbformat": 4,
  "nbformat_minor": 0,
  "metadata": {
    "colab": {
      "name": "gitcommand.ipynb",
      "provenance": [],
      "authorship_tag": "ABX9TyMmaRyepexsQpQ+EUmswurx",
      "include_colab_link": true
    },
    "kernelspec": {
      "name": "python3",
      "display_name": "Python 3"
    }
  },
  "cells": [
    {
      "cell_type": "markdown",
      "metadata": {
        "id": "view-in-github",
        "colab_type": "text"
      },
      "source": [
        "<a href=\"https://colab.research.google.com/github/na-na15/Answer-Correctness-Prediction/blob/main/gitcommand.ipynb\" target=\"_parent\"><img src=\"https://colab.research.google.com/assets/colab-badge.svg\" alt=\"Open In Colab\"/></a>"
      ]
    },
    {
      "cell_type": "code",
      "metadata": {
        "id": "JublxsKjct23"
      },
      "source": [
        "#For connect the colab in my google drive\n",
        "from google.colab import drive\n",
        "drive.mount('/content/gdrive')\n",
        "\n",
        "#cd /content/gdrive/My Drive/Colab Notebooks/test/dsc-capstone-project-v2-onl01-dtsc-pt-030220\n"
      ],
      "execution_count": null,
      "outputs": []
    },
    {
      "cell_type": "code",
      "metadata": {
        "id": "RC8gs6nsyegj"
      },
      "source": [
        "#get path\n",
        "! pwd"
      ],
      "execution_count": null,
      "outputs": []
    },
    {
      "cell_type": "code",
      "metadata": {
        "id": "-hit2idIymsh"
      },
      "source": [
        "#see the list of the files in the folder\n",
        "! ls"
      ],
      "execution_count": null,
      "outputs": []
    },
    {
      "cell_type": "code",
      "metadata": {
        "id": "J5p4KmGyyv3f"
      },
      "source": [
        "#go to the direction \n",
        "%cd /content/gdrive/My Drive/Colab Notebooks/test/dsc-capstone-project-v2-onl01-dtsc-pt-030220\n"
      ],
      "execution_count": null,
      "outputs": []
    },
    {
      "cell_type": "code",
      "metadata": {
        "id": "l0pMHc6Is8ik"
      },
      "source": [
        "#see the status of files in the folder\n",
        "!git status"
      ],
      "execution_count": null,
      "outputs": []
    },
    {
      "cell_type": "code",
      "metadata": {
        "id": "rIpEOEuRSf_9"
      },
      "source": [
        "# clone the rep in google drive\n",
        "! git clone https://github.com/na-na15/dsc-capstone-project-v2-onl01-dtsc-pt-030220"
      ],
      "execution_count": null,
      "outputs": []
    },
    {
      "cell_type": "code",
      "metadata": {
        "id": "8ZEwIhA7S40p"
      },
      "source": [
        "# install libraray in colab\n",
        "! pip install numpy"
      ],
      "execution_count": null,
      "outputs": []
    },
    {
      "cell_type": "code",
      "metadata": {
        "id": "cm3VEJJ51uZ0"
      },
      "source": [
        "! git init\n"
      ],
      "execution_count": null,
      "outputs": []
    },
    {
      "cell_type": "code",
      "metadata": {
        "id": "eozGLq0I2E3d"
      },
      "source": [
        "#for add, commit and push the file in gitup :\n",
        "# file--->Save a copy in GitUp"
      ],
      "execution_count": 8,
      "outputs": []
    },
    {
      "cell_type": "code",
      "metadata": {
        "id": "EhqXVxBkulUb",
        "outputId": "c04fa484-7e05-4da5-92ca-78a91df4ca63",
        "colab": {
          "base_uri": "https://localhost:8080/"
        }
      },
      "source": [
        "import zipfile\n",
        "from google.colab import drive\n",
        "drive.mount('/content/drive/')"
      ],
      "execution_count": 9,
      "outputs": [
        {
          "output_type": "stream",
          "text": [
            "Mounted at /content/drive/\n",
            "unzip:  cannot find or open riiid-test-answer-prediction.zip, riiid-test-answer-prediction.zip.zip or riiid-test-answer-prediction.zip.ZIP.\n"
          ],
          "name": "stdout"
        }
      ]
    },
    {
      "cell_type": "code",
      "metadata": {
        "id": "0v6zGIsPP95i",
        "outputId": "de3aeed4-d610-458d-a82a-5814e38901c3",
        "colab": {
          "base_uri": "https://localhost:8080/"
        }
      },
      "source": [
        "!unzip '/content/drive/My Drive/Colab Notebooks/test/riiid-test-answer-prediction.zip'"
      ],
      "execution_count": 18,
      "outputs": [
        {
          "output_type": "stream",
          "text": [
            "Archive:  /content/drive/My Drive/Colab Notebooks/test/riiid-test-answer-prediction.zip\n",
            "replace example_sample_submission.csv? [y]es, [n]o, [A]ll, [N]one, [r]ename: y\n",
            "  inflating: example_sample_submission.csv  \n",
            "replace example_test.csv? [y]es, [n]o, [A]ll, [N]one, [r]ename: y\n",
            "  inflating: example_test.csv        \n",
            "replace lectures.csv? [y]es, [n]o, [A]ll, [N]one, [r]ename: y\n",
            "  inflating: lectures.csv            \n",
            "replace questions.csv? [y]es, [n]o, [A]ll, [N]one, [r]ename: y\n",
            "  inflating: questions.csv           \n",
            "replace riiideducation/__init__.py? [y]es, [n]o, [A]ll, [N]one, [r]ename: y\n",
            "  inflating: riiideducation/__init__.py  \n",
            "replace riiideducation/competition.cpython-37m-x86_64-linux-gnu.so? [y]es, [n]o, [A]ll, [N]one, [r]ename: y\n",
            "  inflating: riiideducation/competition.cpython-37m-x86_64-linux-gnu.so  \n",
            "replace train.csv? [y]es, [n]o, [A]ll, [N]one, [r]ename: y\n",
            "  inflating: train.csv               y\n",
            "\n"
          ],
          "name": "stdout"
        }
      ]
    },
    {
      "cell_type": "code",
      "metadata": {
        "id": "2qFyMiuoQ0Sn"
      },
      "source": [
        "import pandas as pd\n",
        "example_sample_df = pd.read_csv('example_sample_submission.csv')"
      ],
      "execution_count": 21,
      "outputs": []
    },
    {
      "cell_type": "code",
      "metadata": {
        "id": "re6q0dCVLwmW"
      },
      "source": [
        "# with zipfile.ZipFile(\"/content/drive/My Drive/Colab Notebooks/test/riiid-test-answer-prediction.zip\",\"r\") as zip_ref:\n",
        "#     zip_ref.extractall()"
      ],
      "execution_count": 11,
      "outputs": []
    },
    {
      "cell_type": "markdown",
      "metadata": {
        "id": "nCQ2Z5Y8c3u2"
      },
      "source": [
        "# New Section"
      ]
    }
  ]
}