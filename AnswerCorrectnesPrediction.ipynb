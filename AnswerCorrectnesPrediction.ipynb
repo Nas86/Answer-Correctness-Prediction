{
  "nbformat": 4,
  "nbformat_minor": 0,
  "metadata": {
    "kernelspec": {
      "display_name": "Python [conda env:learn-env] *",
      "language": "python",
      "name": "conda-env-learn-env-py"
    },
    "language_info": {
      "codemirror_mode": {
        "name": "ipython",
        "version": 3
      },
      "file_extension": ".py",
      "mimetype": "text/x-python",
      "name": "python",
      "nbconvert_exporter": "python",
      "pygments_lexer": "ipython3",
      "version": "3.6.12"
    },
    "colab": {
      "name": "AnswerCorrectnesPrediction.ipynb",
      "provenance": [],
      "collapsed_sections": [],
      "include_colab_link": true
    }
  },
  "cells": [
    {
      "cell_type": "markdown",
      "metadata": {
        "id": "view-in-github",
        "colab_type": "text"
      },
      "source": [
        "<a href=\"https://colab.research.google.com/github/na-na15/Answer-Correctness-Prediction/blob/main/AnswerCorrectnesPrediction.ipynb\" target=\"_parent\"><img src=\"https://colab.research.google.com/assets/colab-badge.svg\" alt=\"Open In Colab\"/></a>"
      ]
    },
    {
      "cell_type": "code",
      "metadata": {
        "id": "ehcWJ9LSy8AJ"
      },
      "source": [
        ""
      ],
      "execution_count": null,
      "outputs": []
    },
    {
      "cell_type": "code",
      "metadata": {
        "id": "31hP1hHRzfUz"
      },
      "source": [
        ""
      ],
      "execution_count": null,
      "outputs": []
    },
    {
      "cell_type": "code",
      "metadata": {
        "id": "tfY9hnqDzhM-"
      },
      "source": [
        "#For connect the colab in my google drive\n",
        "from google.colab import drive\n",
        "drive.mount('/content/gdrive')"
      ],
      "execution_count": null,
      "outputs": []
    },
    {
      "cell_type": "code",
      "metadata": {
        "id": "J204_YwRyvFv"
      },
      "source": [
        "#import requests\n",
        "import zipfile\n",
        "import glob\n",
        "import pandas as pd\n",
        "import numpy as np\n",
        "#from collections import defaultdict\n",
        "import matplotlib.pyplot as plt\n",
        "%matplotlib inline\n",
        "import seaborn as sns\n",
        "\n",
        "import warnings\n",
        "warnings.filterwarnings(action=\"ignore\", message=\"unclosed\", category=ResourceWarning)\n",
        "# For merging 3 dataframe"
      ],
      "execution_count": null,
      "outputs": []
    },
    {
      "cell_type": "code",
      "metadata": {
        "id": "QjyCN9wuyvFy"
      },
      "source": [
        "#response = requests.get(\"https://github.com/Kaggle/kaggle-api\")\n",
        "#Everything went okay, and the result has been returned (if any).\n",
        "#print(response.status_code)"
      ],
      "execution_count": null,
      "outputs": []
    },
    {
      "cell_type": "code",
      "metadata": {
        "id": "iZGPzU6vyvF2",
        "outputId": "bad2a616-f1b9-46d3-d4d0-5570beca9ab9"
      },
      "source": [
        "# read zip file\n",
        "with zipfile.ZipFile(\"riiid-test-answer-prediction.zip\",\"r\") as zip_ref:\n",
        "    zip_ref.extractall()\n",
        "    \n",
        "# pull csv file\n",
        "txtfiles = []\n",
        "for file in glob.glob('C:/Flatiron/course-material/CapstoneProject/Answer-Correctness-Prediction/*.csv'):\n",
        "    txtfiles.append(file)\n",
        "txtfiles \n",
        "\n",
        "# Load each csv files into a dataframe\n",
        "# ratings_df = pd.read_csv(\"ml-latest-small/ratings.csv\")\n",
        "# movies_df = pd.read_csv(\"ml-latest-small/movies.csv\")"
      ],
      "execution_count": null,
      "outputs": [
        {
          "output_type": "execute_result",
          "data": {
            "text/plain": [
              "['C:/Flatiron/course-material/CapstoneProject/Answer-Correctness-Prediction\\\\example_sample_submission.csv',\n",
              " 'C:/Flatiron/course-material/CapstoneProject/Answer-Correctness-Prediction\\\\example_test.csv',\n",
              " 'C:/Flatiron/course-material/CapstoneProject/Answer-Correctness-Prediction\\\\lectures.csv',\n",
              " 'C:/Flatiron/course-material/CapstoneProject/Answer-Correctness-Prediction\\\\questions.csv',\n",
              " 'C:/Flatiron/course-material/CapstoneProject/Answer-Correctness-Prediction\\\\train.csv']"
            ]
          },
          "metadata": {
            "tags": []
          },
          "execution_count": 2
        }
      ]
    },
    {
      "cell_type": "code",
      "metadata": {
        "id": "QQ6vbvReyvF6"
      },
      "source": [
        "train_df = pd.read_csv('C:/Flatiron/course-material/CapstoneProject/Answer-Correctness-Prediction/train.csv')\n"
      ],
      "execution_count": null,
      "outputs": []
    },
    {
      "cell_type": "code",
      "metadata": {
        "id": "m7cqsTEYyvF9"
      },
      "source": [
        "questions_df = pd.read_csv('C:/Flatiron/course-material/CapstoneProject/Answer-Correctness-Prediction/questions.csv')\n",
        "example_test_df = pd.read_csv('C:/Flatiron/course-material/CapstoneProject/Answer-Correctness-Prediction/example_test.csv')\n",
        "example_sample_df = pd.read_csv('C:/Flatiron/course-material/CapstoneProject/Answer-Correctness-Prediction/example_sample_submission.csv')"
      ],
      "execution_count": null,
      "outputs": []
    },
    {
      "cell_type": "code",
      "metadata": {
        "id": "WcgCYmTnyvGA",
        "outputId": "5146894e-283b-4d0b-87e9-c440f3c6ed0d"
      },
      "source": [
        "print('train_df.shap:',train_df.shape)\n",
        "print('questions_df.shap:',questions_df.shape)\n",
        "print('example_test_df.shap',example_test_df.shape)\n",
        "print('example_sample_df.shap',example_sample_df.shape)"
      ],
      "execution_count": null,
      "outputs": [
        {
          "output_type": "stream",
          "text": [
            "train_df.shap: (101230332, 10)\n",
            "questions_df.shap: (13523, 5)\n",
            "example_test_df.shap (104, 11)\n",
            "example_sample_df.shap (104, 3)\n"
          ],
          "name": "stdout"
        }
      ]
    },
    {
      "cell_type": "code",
      "metadata": {
        "id": "Hd3-CLMQyvGE",
        "outputId": "429cc2ba-a4f8-459e-dff1-b1fecce289a7"
      },
      "source": [
        "print('train_df columns:',train_df.columns,'\\n')\n",
        "print('questions_df columns:',questions_df.columns,'\\n')\n",
        "print('example_test_df columns:',example_test_df.columns,'\\n')\n",
        "print('example_sample_df columns:',example_sample_df.columns)"
      ],
      "execution_count": null,
      "outputs": [
        {
          "output_type": "stream",
          "text": [
            "train_df columns: Index(['row_id', 'timestamp', 'user_id', 'content_id', 'content_type_id',\n",
            "       'task_container_id', 'user_answer', 'answered_correctly',\n",
            "       'prior_question_elapsed_time', 'prior_question_had_explanation'],\n",
            "      dtype='object') \n",
            "\n",
            "questions_df columns: Index(['question_id', 'bundle_id', 'correct_answer', 'part', 'tags'], dtype='object') \n",
            "\n",
            "example_test_df columns: Index(['row_id', 'group_num', 'timestamp', 'user_id', 'content_id',\n",
            "       'content_type_id', 'task_container_id', 'prior_question_elapsed_time',\n",
            "       'prior_question_had_explanation', 'prior_group_answers_correct',\n",
            "       'prior_group_responses'],\n",
            "      dtype='object') \n",
            "\n",
            "example_sample_df columns: Index(['row_id', 'answered_correctly', 'group_num'], dtype='object')\n"
          ],
          "name": "stdout"
        }
      ]
    },
    {
      "cell_type": "code",
      "metadata": {
        "id": "4ca22z0hyvGK"
      },
      "source": [
        ""
      ],
      "execution_count": null,
      "outputs": []
    }
  ]
}