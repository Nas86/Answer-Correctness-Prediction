{
  "nbformat": 4,
  "nbformat_minor": 0,
  "metadata": {
    "kernelspec": {
      "name": "python3",
      "display_name": "Python 3",
      "language": "python"
    },
    "language_info": {
      "name": "python",
      "version": "3.7.9",
      "mimetype": "text/x-python",
      "codemirror_mode": {
        "name": "ipython",
        "version": 3
      },
      "pygments_lexer": "ipython3",
      "nbconvert_exporter": "python",
      "file_extension": ".py"
    },
    "colab": {
      "name": "human-protein-atlas-single-cell-classification.ipynb",
      "provenance": [],
      "include_colab_link": true
    }
  },
  "cells": [
    {
      "cell_type": "markdown",
      "metadata": {
        "id": "view-in-github",
        "colab_type": "text"
      },
      "source": [
        "<a href=\"https://colab.research.google.com/github/Nas86/Answer-Correctness-Prediction/blob/main/human_protein_atlas_single_cell_classification.ipynb\" target=\"_parent\"><img src=\"https://colab.research.google.com/assets/colab-badge.svg\" alt=\"Open In Colab\"/></a>"
      ]
    },
    {
      "cell_type": "code",
      "metadata": {
        "_uuid": "8f2839f25d086af736a60e9eeb907d3b93b6e0e5",
        "_cell_guid": "b1076dfc-b9ad-4769-8c92-a6c4dae69d19",
        "trusted": true,
        "id": "nhnQJrsZ-utD"
      },
      "source": [
        "# This Python 3 environment comes with many helpful analytics libraries installed\n",
        "# It is defined by the kaggle/python Docker image: https://github.com/kaggle/docker-python\n",
        "# For example, here's several helpful packages to load\n",
        "\n",
        "import numpy as np # linear algebra\n",
        "import pandas as pd # data processing, CSV file I/O (e.g. pd.read_csv)\n",
        "\n",
        "# Input data files are available in the read-only \"../input/\" directory\n",
        "# For example, running this (by clicking run or pressing Shift+Enter) will list all files under the input directory\n",
        "\n",
        "import os\n",
        "for dirname, _, filenames in os.walk('/kaggle/input'):\n",
        "    for filename in filenames:\n",
        "        print(os.path.join(dirname, filename))\n",
        "\n",
        "# You can write up to 20GB to the current directory (/kaggle/working/) that gets preserved as output when you create a version using \"Save & Run All\" \n",
        "# You can also write temporary files to /kaggle/temp/, but they won't be saved outside of the current session"
      ],
      "execution_count": 1,
      "outputs": []
    },
    {
      "cell_type": "code",
      "metadata": {
        "trusted": true,
        "id": "1Cy8RuZ6-utd"
      },
      "source": [
        "import io\n",
        "import os\n",
        "import requests\n",
        "import pathlib\n",
        "import gzip\n",
        "import imageio\n",
        "import pandas as pd"
      ],
      "execution_count": 2,
      "outputs": []
    },
    {
      "cell_type": "markdown",
      "metadata": {
        "id": "zbrPmBrx-utf"
      },
      "source": [
        "# **Function**"
      ]
    },
    {
      "cell_type": "code",
      "metadata": {
        "trusted": true,
        "id": "aIJOtUAn-utg"
      },
      "source": [
        "def tif_gzip_to_png(tif_path):\n",
        "    '''Function to convert .tif.gz to .png and put it in the same folder\n",
        "    Eg. for working in local work station\n",
        "    '''\n",
        "    png_path = pathlib.Path(tif_path.replace('.tif.gz','.png'))\n",
        "    tf = gzip.open(tif_path).read()\n",
        "    img = imageio.imread(tf, 'tiff')\n",
        "    imageio.imwrite(png_path, img)\n",
        "    \n",
        "def download_and_convert_tifgzip_to_png(url, target_path):    \n",
        "    '''Function to convert .tif.gz to .png and put it in the same folder\n",
        "    Eg. in Kaggle notebook\n",
        "    '''\n",
        "    r = requests.get(url)\n",
        "    f = io.BytesIO(r.content)\n",
        "    tf = gzip.open(f).read()\n",
        "    img = imageio.imread(tf, 'tiff')\n",
        "    imageio.imwrite(target_path, img)"
      ],
      "execution_count": 3,
      "outputs": []
    },
    {
      "cell_type": "code",
      "metadata": {
        "trusted": true,
        "id": "yiGuVxm8-uti"
      },
      "source": [
        "# All label names in the public HPA and their corresponding index. \n",
        "all_locations = dict({\n",
        "    \"Nucleoplasm\": 0,\n",
        "    \"Nuclear membrane\": 1,\n",
        "    \"Nucleoli\": 2,\n",
        "    \"Nucleoli fibrillar center\": 3,\n",
        "    \"Nuclear speckles\": 4,\n",
        "    \"Nuclear bodies\": 5,\n",
        "    \"Endoplasmic reticulum\": 6,\n",
        "    \"Golgi apparatus\": 7,\n",
        "    \"Intermediate filaments\": 8,\n",
        "    \"Actin filaments\": 9,\n",
        "    \"Focal adhesion sites\": 9,\n",
        "    \"Microtubules\": 10,\n",
        "    \"Mitotic spindle\": 11,\n",
        "    \"Centrosome\": 12,\n",
        "    \"Centriolar satellite\": 12,\n",
        "    \"Plasma membrane\": 13,\n",
        "    \"Cell Junctions\": 13,\n",
        "    \"Mitochondria\": 14,\n",
        "    \"Aggresome\": 15,\n",
        "    \"Cytosol\": 16,\n",
        "    \"Vesicles\": 17,\n",
        "    \"Peroxisomes\": 17,\n",
        "    \"Endosomes\": 17,\n",
        "    \"Lysosomes\": 17,\n",
        "    \"Lipid droplets\": 17,\n",
        "    \"Cytoplasmic bodies\": 17,\n",
        "    \"No staining\": 18\n",
        "})\n",
        "\n"
      ],
      "execution_count": 4,
      "outputs": []
    },
    {
      "cell_type": "code",
      "metadata": {
        "trusted": true,
        "id": "ZaB7saWs-utj"
      },
      "source": [
        "def add_label_idx(df, all_locations):\n",
        "    '''Function to convert label name to index\n",
        "    '''\n",
        "    df[\"Label_idx\"] = None\n",
        "    for i, row in df.iterrows():\n",
        "        labels = row.Label.split(',')\n",
        "        idx = []\n",
        "        for l in labels:\n",
        "            if l in all_locations.keys():\n",
        "                idx.append(str(all_locations[l]))\n",
        "        if len(idx)>0:\n",
        "            df.loc[i,\"Label_idx\"] = \"|\".join(idx)\n",
        "            \n",
        "        print(df.loc[i,\"Label\"], df.loc[i,\"Label_idx\"])\n",
        "    return df"
      ],
      "execution_count": 5,
      "outputs": []
    },
    {
      "cell_type": "code",
      "metadata": {
        "trusted": true,
        "id": "kg6K8jTw-utl"
      },
      "source": [
        "public_hpa_df = pd.read_csv('../input/publichpa-withcellline/kaggle_2021.tsv')\n",
        "# Remove all images overlapping with Training set\n",
        "# public_hpa_df = public_hpa_df[public_hpa_df.in_trainset == False]\n",
        "\n",
        "# # Remove all images with only labels that are not in this competition\n",
        "# public_hpa_df = public_hpa_df[~public_hpa_df.Label_idx.isna()]\n",
        "\n",
        "# colors = ['blue', 'red', 'green', 'yellow']\n",
        "# celllines = ['A-431', 'A549', 'EFO-21', 'HAP1', 'HEK 293', 'HUVEC TERT2', 'HaCaT', 'HeLa', 'PC-3', 'RH-30', 'RPTEC TERT1', 'SH-SY5Y', 'SK-MEL-30', 'SiHa', 'U-2 OS', 'U-251 MG', 'hTCEpi']\n",
        "# public_hpa_df_17 = public_hpa_df[public_hpa_df.Cellline.isin(celllines)]\n",
        "# len(public_hpa_df), len(public_hpa_df_17)"
      ],
      "execution_count": null,
      "outputs": []
    }
  ]
}